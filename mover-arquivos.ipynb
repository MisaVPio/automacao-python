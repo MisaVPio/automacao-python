{
 "cells": [
  {
   "cell_type": "markdown",
   "id": "2c6073f1",
   "metadata": {},
   "source": [
    "## Exercício de Automação \n",
    "  \n",
    "  ### Limpador da Pasta Documentos"
   ]
  },
  {
   "cell_type": "code",
   "execution_count": 80,
   "id": "e603b1a7",
   "metadata": {},
   "outputs": [],
   "source": [
    "#Abrir gerenciador de pastas e localizar pasta Documentos\n",
    "import pyautogui as pg\n",
    "import os\n",
    "import time\n",
    "\n",
    "pg.PAUSE = 1\n",
    "pg.click(x=561, y=738)\n",
    "time.sleep(3)\n",
    "pg.click(x=76, y=357)\n",
    "pg.click(x=1359, y=604)\n",
    "\n",
    "#Mover para a pasta Desne\n",
    "time.sleep(1)\n",
    "caminho = r\"C:/Users/misav/OneDrive\"\n",
    "lista_arquivos = os.listdir(caminho+\"/Documents\")\n",
    "\n",
    "for arquivo in lista_arquivos:\n",
    "    if \".\" in arquivo:\n",
    "        #Jogar para a pasta Desne\n",
    "        os.rename(f\"{caminho}/Documents/{arquivo}\", f\"{caminho}/Documents/Desne/{arquivo}\")\n",
    "\n",
    "#Exibir arquivos movimentados\n",
    "time.sleep(2)\n",
    "pg.PAUSE = 2\n",
    "pg.click(x=1356, y=274)\n",
    "pg.click(x=233, y=386, clicks=2)\n",
    "time.sleep(2)\n",
    "#Fechar gerenciador de pastas\n",
    "pg.hotkey(\"alt\",\"f4\")\n"
   ]
  },
  {
   "cell_type": "code",
   "execution_count": 79,
   "id": "59814d18",
   "metadata": {},
   "outputs": [
    {
     "data": {
      "text/plain": [
       "Point(x=336, y=517)"
      ]
     },
     "execution_count": 79,
     "metadata": {},
     "output_type": "execute_result"
    }
   ],
   "source": [
    "\n",
    "time.sleep(4)\n",
    "pg.position()\n"
   ]
  },
  {
   "cell_type": "code",
   "execution_count": null,
   "id": "418d1ecf",
   "metadata": {},
   "outputs": [],
   "source": []
  },
  {
   "cell_type": "code",
   "execution_count": 59,
   "id": "8aa20f77",
   "metadata": {},
   "outputs": [
    {
     "data": {
      "text/plain": [
       "Point(x=110, y=348)"
      ]
     },
     "execution_count": 59,
     "metadata": {},
     "output_type": "execute_result"
    }
   ],
   "source": []
  },
  {
   "cell_type": "markdown",
   "id": "2617f53e",
   "metadata": {},
   "source": [
    "### Conclusões finais\n"
   ]
  }
 ],
 "metadata": {
  "kernelspec": {
   "display_name": "Python 3",
   "language": "python",
   "name": "python3"
  },
  "language_info": {
   "codemirror_mode": {
    "name": "ipython",
    "version": 3
   },
   "file_extension": ".py",
   "mimetype": "text/x-python",
   "name": "python",
   "nbconvert_exporter": "python",
   "pygments_lexer": "ipython3",
   "version": "3.8.8"
  }
 },
 "nbformat": 4,
 "nbformat_minor": 5
}
