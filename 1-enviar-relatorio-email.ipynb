{
 "cells": [
  {
   "cell_type": "markdown",
   "metadata": {},
   "source": [
    "# Automação de Sistemas e Processos com Python\n",
    "\n",
    "### Desafio:\n",
    "\n",
    "Todos os dias, o nosso sistema atualiza as vendas do dia anterior.\n",
    "O seu trabalho diário, como analista, é enviar um e-mail para a diretoria, assim que começar a trabalhar, com o faturamento e a quantidade de produtos vendidos no dia anterior\n",
    "\n",
    "E-mail da diretoria: seugmail+diretoria@gmail.com<br>\n",
    "Local onde o sistema disponibiliza as vendas do dia anterior: https://drive.google.com/drive/folders/149xknr9JvrlEnhNWO49zPcw0PW5icxga?usp=sharing\n",
    "\n",
    "Para resolver isso, vamos usar o pyautogui, uma biblioteca de automação de comandos do mouse e do teclado"
   ]
  },
  {
   "cell_type": "code",
   "execution_count": 52,
   "metadata": {},
   "outputs": [],
   "source": [
    "import pyautogui as pg\n",
    "import pyperclip as pc\n",
    "import time\n",
    "import pandas as pd\n",
    "\n",
    "#Acessando a plataforma\n",
    "pg.PAUSE = 1.3\n",
    "pg.hotkey(\"ctrl\", \"t\")\n",
    "pc.copy(\" https://drive.google.com/drive/folders/149xknr9JvrlEnhNWO49zPcw0PW5icxga?usp=sharing\")\n",
    "pg.hotkey(\"ctrl\",\"v\")\n",
    "pg.hotkey(\"enter\")\n",
    "time.sleep(5)\n",
    "\n",
    "#Fazendo download do arquivo\n",
    "pg.click(x=368, y=309, clicks=2)\n",
    "time.sleep(5)\n",
    "pg.click(x=425, y=424)\n",
    "pg.click(x=1159, y=192)\n",
    "pg.click(x=967, y=591)\n",
    "\n"
   ]
  },
  {
   "cell_type": "code",
   "execution_count": 53,
   "metadata": {},
   "outputs": [],
   "source": [
    "#Movendo o arquivo para a pasta INTENSIVÃO\n",
    "pg.click(x=558, y=751)\n",
    "pg.click(x=99, y=377)\n",
    "pg.hotkey(\"ctrl\",\"f\")\n",
    "pg.write(\".xlsx\")\n",
    "pg.hotkey(\"enter\")\n",
    "pg.click(x=220, y=245)\n",
    "pg.hotkey(\"ctrl\",\"x\")\n",
    "pg.click(x=69, y=491)\n",
    "pg.click(x=308, y=522, clicks=2)\n",
    "pg.click(x=235, y=288, clicks=2)\n",
    "pg.click(x=1357, y=451)\n",
    "pg.click(x=227, y=553, clicks=2)\n",
    "pg.hotkey(\"ctrl\", \"v\")\n",
    "pg.click(x=765, y=754)"
   ]
  },
  {
   "cell_type": "code",
   "execution_count": null,
   "metadata": {},
   "outputs": [],
   "source": []
  },
  {
   "cell_type": "markdown",
   "metadata": {},
   "source": [
    "### Vamos agora ler o arquivo baixado para pegar os indicadores\n",
    "\n",
    "- Faturamento\n",
    "- Quantidade de Produtos"
   ]
  },
  {
   "cell_type": "code",
   "execution_count": 54,
   "metadata": {},
   "outputs": [],
   "source": [
    "df = pd.read_excel(r\"C:/Users/misav/INTENSIVÃO PYTHON LIRA/Vendas - Dez.xlsx\")\n",
    "quantidade = df['Quantidade'].sum()\n",
    "faturamento = df['Valor Final'].sum()"
   ]
  },
  {
   "cell_type": "markdown",
   "metadata": {},
   "source": [
    "### Vamos agora enviar um e-mail pelo gmail"
   ]
  },
  {
   "cell_type": "code",
   "execution_count": 55,
   "metadata": {},
   "outputs": [],
   "source": [
    "pg.PAUSE = 0.3\n",
    "pg.hotkey(\"ctrl\", \"t\")\n",
    "pc.copy(\"https://mail.google.com/mail/u/0/?tab=rm&ogbl#inbox\")\n",
    "pg.hotkey(\"ctrl\",\"v\")\n",
    "pg.hotkey(\"enter\")\n",
    "time.sleep(5)\n",
    "\n",
    "pg.PAUSE = 0.8\n",
    "pg.click(x=49, y=208)\n",
    "time.sleep(2)\n",
    "pg.write(\"misavenanciopio+diretoria@gmail.com\")\n",
    "pg.hotkey(\"tab\")\n",
    "pg.hotkey(\"tab\")\n",
    "assunto = \"relatório de ontem\"\n",
    "pc.copy(assunto)\n",
    "pg.hotkey(\"ctrl\",\"v\")\n",
    "pg.hotkey(\"tab\")\n",
    "ms = f\"\"\"\n",
    "     Bom dia!!\n",
    "     Lindo dia hoje!\n",
    "     \n",
    "     Segue relatório:\n",
    "     Quantidade:{quantidade}\n",
    "     Faturamento: R${faturamento:,.2f}\n",
    "\"\"\"\n",
    "pc.copy(ms)\n",
    "pg.hotkey(\"ctrl\",\"v\")\n",
    "pg.hotkey(\"ctrl\",\"enter\")"
   ]
  },
  {
   "cell_type": "markdown",
   "metadata": {},
   "source": [
    "#### Use esse código para descobrir qual a posição de um item que queira clicar\n",
    "\n",
    "- Lembre-se: a posição na sua tela é diferente da posição na minha tela"
   ]
  },
  {
   "cell_type": "code",
   "execution_count": 56,
   "metadata": {},
   "outputs": [
    {
     "data": {
      "text/plain": [
       "Point(x=473, y=290)"
      ]
     },
     "execution_count": 56,
     "metadata": {},
     "output_type": "execute_result"
    }
   ],
   "source": [
    "time.sleep(5)\n",
    "pg.position()"
   ]
  },
  {
   "cell_type": "code",
   "execution_count": null,
   "metadata": {},
   "outputs": [],
   "source": []
  },
  {
   "cell_type": "code",
   "execution_count": null,
   "metadata": {},
   "outputs": [],
   "source": []
  },
  {
   "cell_type": "code",
   "execution_count": null,
   "metadata": {},
   "outputs": [],
   "source": []
  }
 ],
 "metadata": {
  "kernelspec": {
   "display_name": "Python 3",
   "language": "python",
   "name": "python3"
  },
  "language_info": {
   "codemirror_mode": {
    "name": "ipython",
    "version": 3
   },
   "file_extension": ".py",
   "mimetype": "text/x-python",
   "name": "python",
   "nbconvert_exporter": "python",
   "pygments_lexer": "ipython3",
   "version": "3.8.8"
  }
 },
 "nbformat": 4,
 "nbformat_minor": 4
}
